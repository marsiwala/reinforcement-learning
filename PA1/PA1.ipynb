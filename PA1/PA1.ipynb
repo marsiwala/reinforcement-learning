{
 "cells": [
  {
   "cell_type": "code",
   "execution_count": 1,
   "metadata": {},
   "outputs": [],
   "source": [
    "# Mustafa Arsiwala\n",
    "# ma59448\n",
    "# Reinforcement Learning\n",
    "# PA1"
   ]
  },
  {
   "cell_type": "code",
   "execution_count": 2,
   "metadata": {},
   "outputs": [],
   "source": [
    "NUM_STEPS, NUM_RUNS = 10000, 300\n",
    "EPSILON, WEIGHTED_ALPHA = 0.1, 0.1"
   ]
  },
  {
   "cell_type": "code",
   "execution_count": 3,
   "metadata": {},
   "outputs": [],
   "source": [
    "import numpy as np\n",
    "import random\n",
    "import matplotlib.pyplot as plt\n",
    "import matplotlib as mpl"
   ]
  },
  {
   "cell_type": "code",
   "execution_count": 4,
   "metadata": {},
   "outputs": [],
   "source": [
    "def sample_avg_bandit(estimate, reward_val, action_count):\n",
    "    estimate += 1/action_count * (reward_val - estimate)\n",
    "    return estimate\n",
    "    "
   ]
  },
  {
   "cell_type": "code",
   "execution_count": 5,
   "metadata": {},
   "outputs": [],
   "source": [
    "# Function for weighted average bandit's reward estimation.\n",
    "def weighted_bandit(estimate, reward_val):\n",
    "    estimate += WEIGHTED_ALPHA * (reward_val - estimate)\n",
    "    return estimate\n"
   ]
  },
  {
   "cell_type": "code",
   "execution_count": 6,
   "metadata": {},
   "outputs": [],
   "source": [
    "def getActionNum(method_type):\n",
    "    action_num = -1\n",
    "    isExploring = True if random.random() >= (1 - EPSILON) else False\n",
    "    if isExploring:\n",
    "        action_num = random.randint(0, len(q_vals) - 1)\n",
    "    else:\n",
    "        if method_type == 'sample_avg':\n",
    "            action_num = savg_est.index(max(savg_est))\n",
    "        else:\n",
    "            action_num = weighted_est.index(max(weighted_est))\n",
    "    return action_num\n"
   ]
  },
  {
   "cell_type": "code",
   "execution_count": 7,
   "metadata": {},
   "outputs": [],
   "source": [
    "# Initialize statistics tracking and loop for required number of runs.\n",
    "savg_ratio, weighted_ratio = np.zeros(NUM_STEPS), np.zeros(NUM_STEPS)\n",
    "savg_avg, weighted_avg = np.zeros((NUM_STEPS, NUM_RUNS)), np.zeros((NUM_STEPS, NUM_RUNS))\n",
    "\n",
    "for i in range(NUM_RUNS):\n",
    "    # Step 1: initialize true values and estimates.\n",
    "    q_vals = [0] * 10\n",
    "    savg_est, savg_actions = [0] * 10, [0] * 10\n",
    "    weighted_est = [0] * 10\n",
    "\n",
    "    # Each run should loop for required amount of steps.\n",
    "    for j in range(NUM_STEPS):\n",
    "\n",
    "        # First update the q* values.\n",
    "        for k in range(len(q_vals)):\n",
    "            q_vals[k] += np.random.normal(0, 0.01)\n",
    "\n",
    "\n",
    "        # Perform sample-avg bandit method.\n",
    "        # Step 2: Pick an action, using the epsilon-greedy method.\n",
    "        action_num = getActionNum('sample_avg')\n",
    "\n",
    "        # NOTE: Track if action_num is equal to q_vals(max) here.\n",
    "        optimal_action = q_vals.index(max(q_vals))\n",
    "        if optimal_action == action_num:\n",
    "            savg_ratio[j] += 1\n",
    "\n",
    "        # Step 3: Once action is picked, get reward value from Gaussian distribution, and save it for later averaging.\n",
    "        estimate = savg_est[action_num]\n",
    "        reward = np.random.normal(q_vals[action_num], 1)\n",
    "        savg_avg[j, i] = reward\n",
    "\n",
    "        # Step 4: Increment action count and update value estimate.\n",
    "        savg_actions[action_num] += 1\n",
    "        savg_est[action_num] = sample_avg_bandit(estimate, reward, savg_actions[action_num])\n",
    "\n",
    "\n",
    "\n",
    "        # Perform weighted-avg bandit method.\n",
    "        # Step 2: Pick an action, using the epsilon-greedy method.\n",
    "        action_num = getActionNum('weighted')\n",
    "\n",
    "        # NOTE: Track if action_num is equal to q_vals(max) here.\n",
    "        if optimal_action == action_num:\n",
    "            weighted_ratio[j] += 1\n",
    "\n",
    "\n",
    "        # Step 3/4: Once action is picked, get reward value from Gaussian distribution.\n",
    "        estimate = weighted_est[action_num]\n",
    "        reward = np.random.normal(q_vals[action_num], 1)\n",
    "        weighted_avg[j, i] = reward\n",
    "\n",
    "        # Step 4: Update value estimate.\n",
    "        weighted_est[action_num] = weighted_bandit(estimate, reward)\n"
   ]
  },
  {
   "cell_type": "code",
   "execution_count": 8,
   "metadata": {},
   "outputs": [],
   "source": [
    "savg_ratio /= NUM_RUNS\n",
    "weighted_ratio /= NUM_RUNS"
   ]
  },
  {
   "cell_type": "code",
   "execution_count": 9,
   "metadata": {},
   "outputs": [],
   "source": [
    "weighted_avg = np.mean(weighted_avg, axis=1)"
   ]
  },
  {
   "cell_type": "code",
   "execution_count": 10,
   "metadata": {},
   "outputs": [],
   "source": [
    "savg_avg = np.mean(savg_avg, axis = 1)"
   ]
  },
  {
   "cell_type": "code",
   "execution_count": 11,
   "metadata": {},
   "outputs": [],
   "source": [
    "final = np.array([savg_avg, savg_ratio, weighted_avg, weighted_ratio])"
   ]
  },
  {
   "cell_type": "code",
   "execution_count": 13,
   "metadata": {},
   "outputs": [
    {
     "data": {
      "text/plain": [
       "<matplotlib.legend.Legend at 0x112d0b940>"
      ]
     },
     "execution_count": 13,
     "metadata": {},
     "output_type": "execute_result"
    },
    {
     "data": {
      "image/png": "[encoded data removed]",
      "text/plain": [
       "<Figure size 432x288 with 1 Axes>"
      ]
     },
     "metadata": {
      "needs_background": "light"
     },
     "output_type": "display_data"
    }
   ],
   "source": [
    "plt.plot(savg_ratio, label=\"savg_ratio\")\n",
    "plt.plot(weighted_ratio, label=\"weighted_ratio\")\n",
    "plt.legend()"
   ]
  },
  {
   "cell_type": "code",
   "execution_count": 14,
   "metadata": {},
   "outputs": [
    {
     "data": {
      "text/plain": [
       "[<matplotlib.lines.Line2D at 0x112be9c18>]"
      ]
     },
     "execution_count": 14,
     "metadata": {},
     "output_type": "execute_result"
    },
    {
     "data": {
      "image/png": "[encoded data removed]",
      "text/plain": [
       "<Figure size 432x288 with 1 Axes>"
      ]
     },
     "metadata": {
      "needs_background": "light"
     },
     "output_type": "display_data"
    }
   ],
   "source": [
    "plt.plot(savg_avg, label=\"savg_avg\")\n",
    "plt.plot(weighted_avg, label=\"weighted_avg\")"
   ]
  },
  {
   "cell_type": "code",
   "execution_count": 12,
   "metadata": {},
   "outputs": [],
   "source": [
    "np.savetxt('result.out', final)"
   ]
  }
 ],
 "metadata": {
  "kernelspec": {
   "display_name": "Python 3",
   "language": "python",
   "name": "python3"
  },
  "language_info": {
   "codemirror_mode": {
    "name": "ipython",
    "version": 3
   },
   "file_extension": ".py",
   "mimetype": "text/x-python",
   "name": "python",
   "nbconvert_exporter": "python",
   "pygments_lexer": "ipython3",
   "version": "3.7.1"
  }
 },
 "nbformat": 4,
 "nbformat_minor": 2
}
