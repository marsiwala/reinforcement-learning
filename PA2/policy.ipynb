{
 "cells": [
  {
   "cell_type": "code",
   "execution_count": null,
   "metadata": {},
   "outputs": [],
   "source": [
    "import numpy as np\n",
    "\n",
    "class Policy(object):\n",
    "    def action_prob(self,state:int,action:int) -> float:\n",
    "        \"\"\"\n",
    "        input:\n",
    "            state, action\n",
    "        return:\n",
    "            \\pi(a|s)\n",
    "        \"\"\"\n",
    "        raise NotImplementedError()\n",
    "\n",
    "    def action(self,state:int) -> int:\n",
    "        \"\"\"\n",
    "        input:\n",
    "            state\n",
    "        return:\n",
    "            action\n",
    "        \"\"\"\n",
    "        raise NotImplementedError()\n"
   ]
  }
 ],
 "metadata": {
  "kernelspec": {
   "display_name": "Python 3",
   "language": "python",
   "name": "python3"
  },
  "language_info": {
   "codemirror_mode": {
    "name": "ipython",
    "version": 3
   },
   "file_extension": ".py",
   "mimetype": "text/x-python",
   "name": "python",
   "nbconvert_exporter": "python",
   "pygments_lexer": "ipython3",
   "version": "3.8.2"
  }
 },
 "nbformat": 4,
 "nbformat_minor": 2
}
